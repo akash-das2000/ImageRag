{
  "cells": [
    {
      "cell_type": "code",
      "execution_count": null,
      "metadata": {
        "colab": {
          "base_uri": "https://localhost:8080/"
        },
        "id": "WDBEISLAuDgL",
        "outputId": "26bc36be-271d-4394-c047-3ad230f354a4"
      },
      "outputs": [],
      "source": [
        "%pip install --upgrade  langchain langchain-google-genai \"langchain[docarray]\" faiss-cpu pypdf langchain-community"
      ]
    },
    {
      "cell_type": "code",
      "execution_count": null,
      "metadata": {
        "colab": {
          "base_uri": "https://localhost:8080/"
        },
        "id": "OEs7mQKsqKSg",
        "outputId": "cc61ca7f-a70c-4f4b-ddb3-8db1c79e7e12"
      },
      "outputs": [],
      "source": [
        "!pip install -q -U google-generativeai"
      ]
    },
    {
      "cell_type": "code",
      "execution_count": null,
      "metadata": {
        "id": "716Togjvrir-"
      },
      "outputs": [],
      "source": [
        "import google.generativeai as genai\n",
        "from google.colab import userdata\n",
        "GOOGLE_API_KEY=userdata.get('Gemini_API_Key')\n",
        "genai.configure(api_key=GOOGLE_API_KEY)"
      ]
    },
    {
      "cell_type": "code",
      "execution_count": null,
      "metadata": {
        "id": "vlC8DR_Sr_-u"
      },
      "outputs": [],
      "source": [
        "import os\n",
        "import requests\n",
        "from PIL import Image\n",
        "import matplotlib.pyplot as plt\n",
        "import matplotlib.image as mpimg\n",
        "from IPython.display import display, Markdown\n",
        "from langchain_google_genai import ChatGoogleGenerativeAI\n",
        "from langchain_core.messages import HumanMessage, SystemMessage\n",
        "from langchain.vectorstores import DocArrayInMemorySearch\n",
        "from langchain_google_genai import GoogleGenerativeAIEmbeddings\n",
        "from langchain_core.output_parsers import StrOutputParser\n",
        "from langchain_core.prompts import ChatPromptTemplate\n",
        "from langchain.schema.document import Document\n",
        "from langchain_community.document_loaders import TextLoader\n",
        "from langchain_text_splitters import CharacterTextSplitter\n",
        "from langchain_community.vectorstores import FAISS"
      ]
    },
    {
      "cell_type": "code",
      "execution_count": null,
      "metadata": {
        "id": "hBF7SQvY8HkV"
      },
      "outputs": [],
      "source": [
        "from google.colab import userdata\n",
        "GOOGLE_API_KEY=userdata.get('Gemini_API_Key')\n",
        "os.environ[\"GOOGLE_API_KEY\"] = GOOGLE_API_KEY"
      ]
    },
    {
      "cell_type": "code",
      "execution_count": null,
      "metadata": {
        "id": "GxpLi-aF_p70"
      },
      "outputs": [],
      "source": [
        "model_text=ChatGoogleGenerativeAI(\"gemini-1.5-pro-002\")"
      ]
    },
    {
      "cell_type": "code",
      "execution_count": null,
      "metadata": {
        "colab": {
          "base_uri": "https://localhost:8080/",
          "height": 122
        },
        "id": "ax_JWy8B_wJ4",
        "outputId": "a964b77c-9309-4363-a065-053691087738"
      },
      "outputs": [],
      "source": [
        "model_text.invoke(\"Tell a story on a lost spaceship\").content"
      ]
    },
    {
      "cell_type": "code",
      "execution_count": null,
      "metadata": {
        "id": "vR43s1H4AMjk"
      },
      "outputs": [],
      "source": [
        "vision_model=ChatGoogleGenerativeAI(\"gemini-1.5-pro-002 \")"
      ]
    },
    {
      "cell_type": "code",
      "execution_count": null,
      "metadata": {
        "id": "3R2koI4OAQk7"
      },
      "outputs": [],
      "source": [
        "prompt=\"give me summary of this image in 5 words\"\n",
        "image1 = \"/content/house.jfif\"\n",
        "message= HumanMessage(\n",
        "    content=[\n",
        "         {\n",
        "            \"type\": \"text\",\n",
        "            \"text\": prompt,\n",
        "        },\n",
        "        {\n",
        "\n",
        "            \"type\": \"image_url\",\n",
        "            \"image_url\": image1\n",
        "        }\n",
        "    ]\n",
        ")\n"
      ]
    },
    {
      "cell_type": "code",
      "execution_count": null,
      "metadata": {
        "colab": {
          "base_uri": "https://localhost:8080/"
        },
        "id": "9fP9mHMIAWBy",
        "outputId": "a9b095cc-3e65-4a00-fad4-8f7ec0704181"
      },
      "outputs": [],
      "source": [
        "print(vision_model.invoke([message]).content)"
      ]
    },
    {
      "cell_type": "code",
      "execution_count": null,
      "metadata": {
        "colab": {
          "base_uri": "https://localhost:8080/"
        },
        "id": "Gr-ezmE-AYVa",
        "outputId": "4818b9be-9dd9-477f-c81b-55092ce97a94"
      },
      "outputs": [],
      "source": [
        "loader = TextLoader(\"/content/birds.txt\")\n",
        "print(loader.load()[0].page_content)"
      ]
    },
    {
      "cell_type": "code",
      "execution_count": null,
      "metadata": {
        "id": "RHaqMZ18EPJM"
      },
      "outputs": [],
      "source": [
        "text=loader.load()[0].page_content"
      ]
    },
    {
      "cell_type": "code",
      "execution_count": null,
      "metadata": {
        "id": "YccfYl7mEhhh"
      },
      "outputs": [],
      "source": [
        "def get_text_chunks_langchain(text):\n",
        "  text_splitter = CharacterTextSplitter(chunk_size=20, chunk_overlap=10)\n",
        "  docs = [Document(page_content=x) for x in text_splitter.split_text(text)]\n",
        "  return docs"
      ]
    },
    {
      "cell_type": "code",
      "execution_count": null,
      "metadata": {
        "id": "I5b4VjGnEkWa"
      },
      "outputs": [],
      "source": [
        "docs = get_text_chunks_langchain(text)"
      ]
    },
    {
      "cell_type": "code",
      "execution_count": null,
      "metadata": {
        "id": "evX7NekiEnCC"
      },
      "outputs": [],
      "source": [
        "embeddings = GoogleGenerativeAIEmbeddings(model=\"models/embedding-001\")"
      ]
    },
    {
      "cell_type": "code",
      "execution_count": null,
      "metadata": {
        "id": "IV2dkv__E5cq"
      },
      "outputs": [],
      "source": [
        "vectorstore = FAISS.from_documents(docs,embedding=embeddings)"
      ]
    },
    {
      "cell_type": "code",
      "execution_count": null,
      "metadata": {
        "id": "rBAJZDp0E76w"
      },
      "outputs": [],
      "source": [
        "retriever=vectorstore.as_retriever()"
      ]
    },
    {
      "cell_type": "code",
      "execution_count": null,
      "metadata": {
        "colab": {
          "base_uri": "https://localhost:8080/"
        },
        "id": "I7Hv0jHrFAYr",
        "outputId": "e3eb3346-67e1-489d-a436-b54696ec0ae9"
      },
      "outputs": [],
      "source": [
        "retriever.invoke(\"Bird/eagle.\")"
      ]
    },
    {
      "cell_type": "code",
      "execution_count": null,
      "metadata": {
        "id": "fESh-m2EFOXZ"
      },
      "outputs": [],
      "source": [
        "from langchain_core.runnables import RunnableLambda, RunnablePassthrough\n",
        "llm_vision = ChatGoogleGenerativeAI(\"gemini-1.5-pro-002 \")\n",
        "llm_text = ChatGoogleGenerativeAI(\"gemini-1.5-pro-002 \")"
      ]
    },
    {
      "cell_type": "code",
      "execution_count": null,
      "metadata": {
        "id": "KkYAHtMxFfL_"
      },
      "outputs": [],
      "source": [
        "template = \"\"\"\n",
        "```\n",
        "{context}\n",
        "```\n",
        "\n",
        "{query}\n",
        "\n",
        "\n",
        "Provide brief information and store location.\n",
        "\"\"\""
      ]
    },
    {
      "cell_type": "code",
      "execution_count": null,
      "metadata": {
        "id": "SpEIJIXzFhlk"
      },
      "outputs": [],
      "source": [
        "prompt = ChatPromptTemplate.from_template(template)"
      ]
    },
    {
      "cell_type": "code",
      "execution_count": null,
      "metadata": {
        "id": "AEHnypHpFjVm"
      },
      "outputs": [],
      "source": [
        "rag_chain = (\n",
        "    {\"context\": retriever, \"query\": RunnablePassthrough()}\n",
        "    | prompt\n",
        "    | llm_text\n",
        "    | StrOutputParser()\n",
        ")"
      ]
    },
    {
      "cell_type": "code",
      "execution_count": null,
      "metadata": {
        "id": "ACt4WTPyFlgf"
      },
      "outputs": [],
      "source": [
        "result = rag_chain.invoke(\"can you give me a detail of a eagle?\")"
      ]
    },
    {
      "cell_type": "code",
      "execution_count": null,
      "metadata": {
        "colab": {
          "base_uri": "https://localhost:8080/",
          "height": 303
        },
        "id": "8LDKU_IqFqLi",
        "outputId": "0886d148-ffb6-4761-88f8-ed2d7da6120e"
      },
      "outputs": [],
      "source": [
        "display(Markdown(result))"
      ]
    },
    {
      "cell_type": "code",
      "execution_count": null,
      "metadata": {
        "colab": {
          "base_uri": "https://localhost:8080/"
        },
        "id": "LL44GmIZFtO9",
        "outputId": "7d9444b2-6ef9-4d71-cf4d-8fa96c0c7808"
      },
      "outputs": [],
      "source": [
        "rag_chain"
      ]
    },
    {
      "cell_type": "code",
      "execution_count": null,
      "metadata": {
        "colab": {
          "base_uri": "https://localhost:8080/"
        },
        "id": "ydIYjOzqF10u",
        "outputId": "7be85523-6f5d-446e-8ab9-c40a643e1f0f"
      },
      "outputs": [],
      "source": [
        "full_chain = (\n",
        "    RunnablePassthrough() | llm_vision | StrOutputParser() | rag_chain\n",
        ")\n",
        "\n",
        "full_chain"
      ]
    },
    {
      "cell_type": "code",
      "execution_count": null,
      "metadata": {
        "id": "k_G1J5OIGSjD"
      },
      "outputs": [],
      "source": [
        "image3 = \"/content/eagle_cartoon.jfif\""
      ]
    },
    {
      "cell_type": "code",
      "execution_count": null,
      "metadata": {
        "id": "VSj9Fm25GYHJ"
      },
      "outputs": [],
      "source": [
        "plt.imshow(image3)\n",
        "plt.show()"
      ]
    },
    {
      "cell_type": "code",
      "execution_count": null,
      "metadata": {
        "id": "FcLptgY2GaqI"
      },
      "outputs": [],
      "source": [
        "message = HumanMessage(\n",
        "    content=[\n",
        "        {\n",
        "            \"type\": \"text\",\n",
        "            \"text\": \"Provide information on given bird and native location.\",\n",
        "        },  # You can optionally provide text parts\n",
        "        {\"type\": \"image_url\", \"image_url\": image3},\n",
        "    ]\n",
        ")"
      ]
    },
    {
      "cell_type": "code",
      "execution_count": null,
      "metadata": {
        "id": "R5oEAF7wGko2"
      },
      "outputs": [],
      "source": [
        "result = full_chain.invoke([message])"
      ]
    },
    {
      "cell_type": "code",
      "execution_count": null,
      "metadata": {
        "colab": {
          "base_uri": "https://localhost:8080/",
          "height": 128
        },
        "id": "4OQNwjU1GnG1",
        "outputId": "4cc5c5bc-e406-440a-bd52-243ea076e902"
      },
      "outputs": [],
      "source": [
        "display(Markdown(result))"
      ]
    },
    {
      "cell_type": "code",
      "execution_count": null,
      "metadata": {
        "id": "lrLyWXmEGvhO"
      },
      "outputs": [],
      "source": []
    }
  ],
  "metadata": {
    "colab": {
      "provenance": []
    },
    "kernelspec": {
      "display_name": "Python 3",
      "name": "python3"
    },
    "language_info": {
      "name": "python"
    }
  },
  "nbformat": 4,
  "nbformat_minor": 0
}
